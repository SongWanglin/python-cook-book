{
 "cells": [
  {
   "cell_type": "code",
   "execution_count": 7,
   "metadata": {},
   "outputs": [],
   "source": [
    "import requests"
   ]
  },
  {
   "cell_type": "code",
   "execution_count": 10,
   "metadata": {},
   "outputs": [],
   "source": [
    "resp = requests.get('https://www.google.com/')"
   ]
  },
  {
   "cell_type": "code",
   "execution_count": 11,
   "metadata": {},
   "outputs": [
    {
     "name": "stdout",
     "output_type": "stream",
     "text": [
      "<Response [200]>\n"
     ]
    }
   ],
   "source": [
    "print(resp)"
   ]
  },
  {
   "cell_type": "code",
   "execution_count": 12,
   "metadata": {},
   "outputs": [],
   "source": [
    "from http.client import HTTPConnection\n",
    "from urllib import parse"
   ]
  },
  {
   "cell_type": "code",
   "execution_count": 14,
   "metadata": {},
   "outputs": [
    {
     "name": "stdout",
     "output_type": "stream",
     "text": [
      "Status 301\n",
      "Server Varnish\n",
      "Retry-After 0\n",
      "Location https://www.python.org/index.html\n",
      "Content-Length 0\n",
      "Accept-Ranges bytes\n",
      "Date Sat, 06 Apr 2019 15:44:21 GMT\n",
      "Via 1.1 varnish\n",
      "Connection close\n",
      "X-Served-By cache-mdw17366-MDW\n",
      "X-Cache HIT\n",
      "X-Cache-Hits 0\n",
      "X-Timer S1554565461.381721,VS0,VE0\n",
      "Strict-Transport-Security max-age=63072000; includeSubDomains\n"
     ]
    }
   ],
   "source": [
    "c = HTTPConnection('www.python.org',80)\n",
    "c.request('HEAD', '/index.html')\n",
    "resp = c.getresponse()\n",
    "print('Status', resp.status)\n",
    "for name, value in resp.getheaders():\n",
    "    print(name, value)"
   ]
  },
  {
   "cell_type": "code",
   "execution_count": 15,
   "metadata": {},
   "outputs": [],
   "source": [
    "import urllib.request"
   ]
  },
  {
   "cell_type": "code",
   "execution_count": null,
   "metadata": {},
   "outputs": [],
   "source": [
    "auth = urllib.request.HTTPBasicAuthHandler()\n",
    "auth.add_password('pypi','http://pypi.python.org','username','password')\n",
    "opener = urllib.request.build_opene"
   ]
  }
 ],
 "metadata": {
  "kernelspec": {
   "display_name": "Python 3",
   "language": "python",
   "name": "python3"
  },
  "language_info": {
   "codemirror_mode": {
    "name": "ipython",
    "version": 3
   },
   "file_extension": ".py",
   "mimetype": "text/x-python",
   "name": "python",
   "nbconvert_exporter": "python",
   "pygments_lexer": "ipython3",
   "version": "3.7.2"
  }
 },
 "nbformat": 4,
 "nbformat_minor": 2
}
