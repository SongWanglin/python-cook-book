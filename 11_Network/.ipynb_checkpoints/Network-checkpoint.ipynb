{
 "cells": [
  {
   "cell_type": "code",
   "execution_count": 7,
   "metadata": {},
   "outputs": [],
   "source": [
    "import requests"
   ]
  },
  {
   "cell_type": "code",
   "execution_count": 10,
   "metadata": {},
   "outputs": [],
   "source": [
    "resp = requests.get('https://www.google.com/')"
   ]
  },
  {
   "cell_type": "code",
   "execution_count": 11,
   "metadata": {},
   "outputs": [
    {
     "name": "stdout",
     "output_type": "stream",
     "text": [
      "<Response [200]>\n"
     ]
    }
   ],
   "source": [
    "print(resp)"
   ]
  },
  {
   "cell_type": "code",
   "execution_count": 12,
   "metadata": {},
   "outputs": [],
   "source": [
    "from http.client import HTTPConnection\n",
    "from urllib import parse"
   ]
  },
  {
   "cell_type": "code",
   "execution_count": null,
   "metadata": {},
   "outputs": [],
   "source": [
    "c = HTTPConnection('www.python.org',80)\n",
    "c.request('HEAD', '/index.html')\n",
    "resp = c.getresponse()\n",
    "print('Status', resp.status)\n",
    "for name, value in resp.getheaders():\n",
    "    print(name, value)"
   ]
  },
  {
   "cell_type": "code",
   "execution_count": 15,
   "metadata": {},
   "outputs": [],
   "source": [
    "import urllib.request"
   ]
  },
  {
   "cell_type": "code",
   "execution_count": 16,
   "metadata": {},
   "outputs": [
    {
     "name": "stdout",
     "output_type": "stream",
     "text": [
      "b'\\n\\n\\n\\n\\n\\n\\n\\n<!DOCTYPE html>\\n<html lang=\"en\">\\n  <head>\\n    <meta charset=\"utf-8\">\\n    <meta http-equiv=\"X-UA-Compatible\" content=\"IE=edge\">\\n    <meta name=\"viewport\" content=\"width=device-width, initial-scale=1\">\\n\\n    <meta name=\"defaultLanguage\" content=\"en\">\\n    <meta name=\"availableLanguages\" content=\"en\">\\n\\n    \\n\\n    <title>PyPI \\xe2\\x80\\x93 the Python Package Index \\xc2\\xb7 PyPI</title>\\n    <meta name=\"description\" content=\"The Python Package Index (PyPI) is a repository of software for the Python programming language.\">\\n\\n    <link rel=\"stylesheet\" href=\"/static/css/warehouse.48c03f19.css\">\\n    <link rel=\"stylesheet\" href=\"/static/css/fontawesome.3173d2f0.css\">\\n    <link rel=\"stylesheet\" href=\"/static/css/regular.19624371.css\">\\n    <link rel=\"stylesheet\" href=\"/static/css/solid.f478cfb1.css\">\\n    <link rel=\"stylesheet\" href=\"/static/css/brands.1ea560bf.css\">\\n    <link rel=\"stylesheet\" href=\"https://fonts.googleapis.com/css?family=Source+Sans+Pro:400,400italic,600,600italic,700,700italic|Source+Code+Pro:500\">\\n    <noscript>\\n      <link rel=\"stylesheet\" href=\"/static/css/noscript.ea8974d1.css\">\\n    </noscript>\\n\\n    \\n\\n    <link rel=\"icon\" href=\"/static/images/favicon.6a76275d.ico\" type=\"image/x-icon\">\\n\\n    <link rel=\"alternate\" type=\"application/rss+xml\" title=\"RSS: 40 latest updates\" href=\"/rss/updates.xml\">\\n    <link rel=\"alternate\" type=\"application/rss+xml\" title=\"RSS: 40 newest packages\" href=\"/rss/packages.xml\">\\n    \\n\\n    <meta property=\"og:url\" content=\"https://pypi.org/\">\\n    <meta property=\"og:site_name\" content=\"PyPI\">\\n    <meta property=\"og:type\" content=\"website\">\\n    <meta property=\"og:image\" content=\"https://pypi.org/static/images/twitter.c0030826.jpg\">\\n    <meta property=\"og:title\" content=\"PyPI \\xe2\\x80\\x93 the Python Package Index\">\\n    <meta property=\"og:description\" content=\"The Python Package Index (PyPI) is a repository of software for the Python programming language.\">\\n\\n    <link rel=\"search\" type=\"application/opensearchdescription+xml\" title=\"PyPI\" href=\"/opensearch.xml\">\\n\\n    \\n    <script\\n      src=\"https://cdn.ravenjs.com/3.26.2/raven.min.js\"\\n      integrity=\"sha384-D6LXy67EIC102DTuqypxwQsTHgiatlbvg7q/1YAWFb6lRyZ1lIZ6bGDsX7jxHNKA\"\\n      crossorigin=\"anonymous\">\\n    </script>\\n    \\n    <script async\\n            data-ga-id=\"UA-55961911-1\"\\n            data-sentry-frontend-dsn=\"https://3a67b35c9dc248a191d761410b095861@sentry.io/1231155\"\\n            src=\"/static/js/warehouse.3caa2810.js\">\\n    </script>\\n    \\n    \\n    <script async src=\"https://www.googletagmanager.com/gtag/js?id=UA-55961911-1\"></script>\\n    <script defer src=\"https://www.fastly-insights.com/insights.js?k=6a52360a-f306-421e-8ed5-7417d0d4a4e9&dnt=true\"></script>\\n  </head>\\n\\n  <body data-controller=\"viewport-toggle\">\\n    \\n\\n    <!-- Accessibility: this link should always be the first piece of content inside the body-->\\n    <a href=\"#content\" class=\"skip-to-content\">Skip to main content</a>\\n\\n    <button class=\"button button--primary button--switch-to-mobile hidden\" data-target=\"viewport-toggle.switchToMobile\" data-action=\"viewport-toggle#switchToMobile\">\\n      Switch to mobile version\\n    </button>\\n\\n    <section id=\"sticky-notifications\" class=\"stick-to-top js-stick-to-top\">\\n      <!-- Add browser warning. Will show for ie9 and below -->\\n      <!--[if IE]>\\n      <div class=\"notification-bar notification-bar--danger\">\\n        <span class=\"notification-bar__icon\">\\n          <i class=\"fa fa-exclamation-triangle\" aria-hidden=\"true\"></i>\\n          <span class=\"sr-only\">Warning:</span>\\n        </span>\\n        <span class=\"notification-bar__message\">You are using an unsupported browser, upgrade to a newer version.</span>\\n      </div>\\n      <![endif]-->\\n      \\n      <noscript>\\n      <div class=\"notification-bar notification-bar--danger\">\\n        \\n        <span class=\"notification-bar__icon\">\\n          <i class=\"fa fa-exclamation-triangle\" aria-hidden=\"true\"></i>\\n          <span class=\"sr-only\">Warning:</span>\\n        </span>\\n        <span class=\"notification-bar__message\">Some features may not work without JavaScript. Please try enabling it if you encounter problems.</span>\\n      </div>\\n      </noscript>\\n    </section>\\n\\n    \\n      <div data-html-include=\"/_includes/flash-messages/\">\\n      </div>\\n    \\n\\n    \\n\\n    \\n\\n    <header class=\"site-header \">\\n      <div class=\"site-container\">\\n        <div class=\"split-layout\">\\n          \\n<div>\\n  <a class=\"site-header__logo\" href=\"/\">\\n    <img alt=\"PyPI\" src=\"/static/images/logo-small.6eef541e.svg\">\\n  </a>\\n</div>\\n\\n\\n          <div data-html-include=\"/_includes/current-user-indicator/\">\\n            <nav id=\"user-indicator\" class=\"horizontal-menu horizontal-menu--light horizontal-menu--tall\" aria-label=\"Main navigation\">\\n  <a class=\"horizontal-menu__link horizontal-menu__link--remove-on-mobile\" href=\"/help/\">Help</a>\\n  <a class=\"horizontal-menu__link horizontal-menu__link--remove-on-mobile\" href=\"https://donate.pypi.org\">Donate</a>\\n  <a class=\"horizontal-menu__link\" href=\"/account/login/\">Log in</a>\\n  <a class=\"horizontal-menu__link\" href=\"/account/register/\">Register</a>\\n</nav>\\n          </div>\\n        </div>\\n      </div>\\n    </header>\\n\\n    \\n\\n    <main id=\"content\">\\n      \\n\\n\\n  \\n\\n\\n<section class=\"banner\">\\n  <div class=\"homepage-banner\">\\n    <h1 class=\"homepage-banner__title\">Find, install and publish Python packages with the Python Package Index</h1>\\n\\n    <form class=\"search-form search-form--large search-form--fullwidth\" action=\"/search/\">\\n      <label for=\"search\" class=\"sr-only\">Search PyPI</label>\\n      <input id=\"search\" class=\"search-form__search large-input\" type=\"text\" name=\"q\" placeholder=\"Search projects\">\\n      <button type=\"submit\" class=\"search-form__button\">\\n        <i class=\"fa fa-search\" aria-hidden=\"true\"></i>\\n        <span class=\"sr-only\">Search</span>\\n      </button>\\n    </form>\\n\\n    <p class=\"homepage-banner__browse\">Or <a href=\"/search/\">browse projects</a></p>\\n  </div>\\n</section>\\n\\n<section class=\"horizontal-section horizontal-section--grey horizontal-section--thin horizontal-section--statistics\">\\n  <div class=\"statistics-bar\">\\n    <p class=\"statistics-bar__statistic\">174,983 projects</p>\\n    <p class=\"statistics-bar__statistic\">1,276,642 releases</p>\\n    <p class=\"statistics-bar__statistic\">1,821,189 files</p>\\n    <p class=\"statistics-bar__statistic\">318,067 users</p>\\n  </div>\\n</section>\\n\\n<section class=\"horizontal-section\">\\n  <div class=\"about-pypi\">\\n    <div class=\"about-pypi__logo\">\\n      <img alt=\"PyPI\" src=\"/static/images/logo-large.72ad8bf1.svg\">\\n    </div>\\n    <div class=\"about-pypi__text\">\\n      <p class=\"lede-paragraph\">The Python Package Index (PyPI) is a repository of software for the Python programming language.</p>\\n      <p>\\n        PyPI helps you find and install software developed and shared by the Python community.\\n        <a href=\"https://packaging.python.org/installing/\">Learn about installing packages</a>.\\n      </p>\\n      <p>\\n        Package authors use PyPI to distribute their software.\\n        <a href=\"https://packaging.python.org/tutorials/packaging-projects/\">Learn how to package your Python code for PyPI</a>.\\n      </p>\\n    </div>\\n  </div>\\n</section>\\n\\n<section class=\"horizontal-section horizontal-section--grey\">\\n  <div class=\"site-container\">\\n    <div class=\"col-half\">\\n      <div class=\"heading-wsubtitle\" id=\"pypi-trending-packages\">\\n        <h2 class=\"heading-wsubtitle__heading\">Trending projects</h2>\\n        <p class=\"heading-wsubtitle__subtitle\">Trending projects as downloaded by the community</p>\\n      </div>\\n      <ul class=\"unstyled\" aria-labelledby=\"pypi-trending-packages\">\\n        \\n          <li>\\n  <a class=\"package-snippet\" href=\"/project/roboschool/\">\\n    <h3 class=\"package-snippet__title\">\\n      <span class=\"package-snippet__name\">roboschool</span>\\n      <span class=\"package-snippet__version\">1.0.45</span>\\n    </h3>\\n    <p class=\"package-snippet__description\">OpenAI Household Simulator: mobile manipulation using Bullet</p>\\n  </a>\\n</li>\\n        \\n          <li>\\n  <a class=\"package-snippet\" href=\"/project/streamparse/\">\\n    <h3 class=\"package-snippet__title\">\\n      <span class=\"package-snippet__name\">streamparse</span>\\n      <span class=\"package-snippet__version\">3.15.1</span>\\n    </h3>\\n    <p class=\"package-snippet__description\">streamparse lets you run Python code against real-time streams of data. Integrates with Apache Storm.</p>\\n  </a>\\n</li>\\n        \\n          <li>\\n  <a class=\"package-snippet\" href=\"/project/aioprocessing/\">\\n    <h3 class=\"package-snippet__title\">\\n      <span class=\"package-snippet__name\">aioprocessing</span>\\n      <span class=\"package-snippet__version\">1.0.1</span>\\n    </h3>\\n    <p class=\"package-snippet__description\">A Python 3.3+ library that integrates the multiprocessing module with asyncio.</p>\\n  </a>\\n</li>\\n        \\n          <li>\\n  <a class=\"package-snippet\" href=\"/project/peachapisec-api/\">\\n    <h3 class=\"package-snippet__title\">\\n      <span class=\"package-snippet__name\">peachapisec-api</span>\\n      <span class=\"package-snippet__version\">1.5.40</span>\\n    </h3>\\n    <p class=\"package-snippet__description\">Peach Web Proxy API module</p>\\n  </a>\\n</li>\\n        \\n          <li>\\n  <a class=\"package-snippet\" href=\"/project/animal-case/\">\\n    <h3 class=\"package-snippet__title\">\\n      <span class=\"package-snippet__name\">animal-case</span>\\n      <span class=\"package-snippet__version\">0.4.1</span>\\n    </h3>\\n    <p class=\"package-snippet__description\">Convert from camel case to snake case and vice-versa</p>\\n  </a>\\n</li>\\n        \\n      </ul>\\n      \\n    </div>\\n    <div class=\"col-half\">\\n      <div class=\"heading-wsubtitle\" id=\"pypi-new-packages\">\\n        <h2 class=\"heading-wsubtitle__heading\">New releases</h2>\\n        <p class=\"heading-wsubtitle__subtitle\">Hot off the press: the newest project releases</p>\\n      </div>\\n      <ul class=\"unstyled\" aria-labelledby=\"pypi-new-packages\">\\n        \\n          <li>\\n  <a class=\"package-snippet\" href=\"/project/image-bbox-slicer/\">\\n    <h3 class=\"package-snippet__title\">\\n      <span class=\"package-snippet__name\">image-bbox-slicer</span>\\n      <span class=\"package-snippet__version\">0.1.3</span>\\n    </h3>\\n    <p class=\"package-snippet__description\"></p>\\n  </a>\\n</li>\\n        \\n          <li>\\n  <a class=\"package-snippet\" href=\"/project/sto/\">\\n    <h3 class=\"package-snippet__title\">\\n      <span class=\"package-snippet__name\">sto</span>\\n      <span class=\"package-snippet__version\">0.4.1</span>\\n    </h3>\\n    <p class=\"package-snippet__description\">Security token manager</p>\\n  </a>\\n</li>\\n        \\n          <li>\\n  <a class=\"package-snippet\" href=\"/project/cloudmesh-common/\">\\n    <h3 class=\"package-snippet__title\">\\n      <span class=\"package-snippet__name\">cloudmesh-common</span>\\n      <span class=\"package-snippet__version\">4.0.32</span>\\n    </h3>\\n    <p class=\"package-snippet__description\">A set of useful APIs for cloudmesh</p>\\n  </a>\\n</li>\\n        \\n          <li>\\n  <a class=\"package-snippet\" href=\"/project/choochoo/\">\\n    <h3 class=\"package-snippet__title\">\\n      <span class=\"package-snippet__name\">choochoo</span>\\n      <span class=\"package-snippet__version\">0.19.2</span>\\n    </h3>\\n    <p class=\"package-snippet__description\">Data Science for Training</p>\\n  </a>\\n</li>\\n        \\n          <li>\\n  <a class=\"package-snippet\" href=\"/project/pycvodes/\">\\n    <h3 class=\"package-snippet__title\">\\n      <span class=\"package-snippet__name\">pycvodes</span>\\n      <span class=\"package-snippet__version\">0.10.15</span>\\n    </h3>\\n    <p class=\"package-snippet__description\">Python binding for cvodes from the sundials library.</p>\\n  </a>\\n</li>\\n        \\n      </ul>\\n      \\n    </div>\\n  </div>\\n</section>\\n\\n\\n    </main>\\n\\n    <footer class=\"footer\" role=\"contentinfo\">\\n      <div class=\"footer__logo\">\\n        <img src=\"/static/images/white-cube.8c3a6fe9.svg\" alt=\"Logo\" class=\"-js-white-cube\">\\n      </div>\\n\\n      <div class=\"footer__menus\">\\n        <ul class=\"footer__menu\">\\n          <li>\\n            <h2>Help</h2>\\n          </li>\\n          <li><a href=\"https://packaging.python.org/installing/\">Installing packages</a></li>\\n          <li><a href=\"https://packaging.python.org/tutorials/packaging-projects/\">Uploading packages</a></li>\\n          <li><a href=\"https://packaging.python.org/\">User guide</a></li>\\n          <li><a href=\"/help/\">FAQs</a></li>\\n        </ul>\\n        <ul class=\"footer__menu\">\\n          <li>\\n            <h2>About PyPI</h2>\\n          </li>\\n          <li><a href=\"https://twitter.com/PyPI\">PyPI on Twitter</a></li>\\n          <li><a href=\"https://dtdg.co/pypi\">Infrastructure dashboard</a></li>\\n          <li><a href=\"https://www.python.org/dev/peps/pep-0541/\">Package index name retention</a></li>\\n          <li><a href=\"/sponsors/\">Our sponsors</a></li>\\n        </ul>\\n\\n\\n        <ul class=\"footer__menu\">\\n          <li>\\n            <h2>Contributing to PyPI</h2>\\n          </li>\\n          <li><a href=\"/help/#feedback\">Bugs and feedback</a></li>\\n          <li><a href=\"https://github.com/pypa/warehouse\">Contribute on GitHub</a></li>\\n          <li><a href=\"https://github.com/pypa/warehouse/graphs/contributors\">Development credits</a></li>\\n        </ul>\\n        <ul class=\"footer__menu\">\\n          <li>\\n            <h2>Using PyPI</h2>\\n          </li>\\n          <li><a href=\"https://www.pypa.io/en/latest/code-of-conduct/\">Code of conduct</a></li>\\n          <li><a href=\"/security/\">Report security issue</a></li>\\n          <li><a href=\"https://www.python.org/privacy/\">Privacy policy</a></li>\\n          <li><a href=\"/policy/terms-of-use/\">Terms of use</a></li>\\n        </ul>\\n      </div>\\n\\n      <hr class=\"footer__divider\">\\n\\n      <div class=\"footer__text\">\\n        \\n        <p>Status: <a href=\"https://status.python.org/\"><span data-statuspage-domain=\"https://2p66nmmycsj3.statuspage.io\">all systems operational</span></a></p>\\n        \\n        <p>\\n          Developed and maintained by the Python community, for the Python community.\\n          <br>\\n          <a href=\"https://donate.pypi.org\">Donate today!</a>\\n        </p>\\n        <p>\\xc2\\xa9 2019 <a href=\"https://www.python.org/psf/\">Python Software Foundation</a></p>\\n      </div>\\n\\n      <div class=\"centered hide-on-desktop\">\\n        <button class=\"button button--switch-to-desktop hidden\" data-target=\"viewport-toggle.switchToDesktop\" data-action=\"viewport-toggle#switchToDesktop\">\\n          Desktop version\\n        </button>\\n      </div>\\n    </footer>\\n\\n    \\n\\n<div class=\"sponsors\">\\n  <p class=\"sponsors__title\">Supported by</p>\\n  \\n    \\n      <a class=\"sponsors__sponsor\" target=\"_blank\" rel=\"noopener\" href=\"https://www.elastic.co/\">\\n        <img class=\"sponsors__image\" alt=\"Elastic\" src=\"/static/images/sponsors/white/elastic.a912fb87.png\">\\n        <span class=\"sponsors__name\">Elastic</span>\\n        <span class=\"sponsors__service\">Search</span>\\n      </a>\\n    \\n  \\n    \\n      <a class=\"sponsors__sponsor\" target=\"_blank\" rel=\"noopener\" href=\"https://www.pingdom.com/\">\\n        <img class=\"sponsors__image\" alt=\"Pingdom\" src=\"/static/images/sponsors/white/pingdom.07446398.png\">\\n        <span class=\"sponsors__name\">Pingdom</span>\\n        <span class=\"sponsors__service\">Monitoring</span>\\n      </a>\\n    \\n  \\n    \\n      <a class=\"sponsors__sponsor\" target=\"_blank\" rel=\"noopener\" href=\"https://cloud.google.com/\">\\n        <img class=\"sponsors__image\" alt=\"Google\" src=\"/static/images/sponsors/white/google.2f72f26f.png\">\\n        <span class=\"sponsors__name\">Google</span>\\n        <span class=\"sponsors__service\">BigQuery</span>\\n      </a>\\n    \\n  \\n    \\n      <a class=\"sponsors__sponsor\" target=\"_blank\" rel=\"noopener\" href=\"https://getsentry.com/for/python\">\\n        <img class=\"sponsors__image\" alt=\"Sentry\" src=\"/static/images/sponsors/white/sentry.5ab437bc.png\">\\n        <span class=\"sponsors__name\">Sentry</span>\\n        <span class=\"sponsors__service\">Error logging</span>\\n      </a>\\n    \\n  \\n    \\n      <a class=\"sponsors__sponsor\" target=\"_blank\" rel=\"noopener\" href=\"https://aws.amazon.com/\">\\n        <img class=\"sponsors__image\" alt=\"AWS\" src=\"/static/images/sponsors/white/aws.5f800271.png\">\\n        <span class=\"sponsors__name\">AWS</span>\\n        <span class=\"sponsors__service\">Cloud computing</span>\\n      </a>\\n    \\n  \\n    \\n      <a class=\"sponsors__sponsor\" target=\"_blank\" rel=\"noopener\" href=\"https://www.datadoghq.com/\">\\n        <img class=\"sponsors__image\" alt=\"DataDog\" src=\"/static/images/sponsors/white/datadog.e569d741.png\">\\n        <span class=\"sponsors__name\">DataDog</span>\\n        <span class=\"sponsors__service\">Monitoring</span>\\n      </a>\\n    \\n  \\n    \\n      <a class=\"sponsors__sponsor\" target=\"_blank\" rel=\"noopener\" href=\"https://www.fastly.com/\">\\n        <img class=\"sponsors__image\" alt=\"Fastly\" src=\"/static/images/sponsors/white/fastly.0563c6f5.png\">\\n        <span class=\"sponsors__name\">Fastly</span>\\n        <span class=\"sponsors__service\">CDN</span>\\n      </a>\\n    \\n  \\n    \\n      <a class=\"sponsors__sponsor\" target=\"_blank\" rel=\"noopener\" href=\"https://www.signalfx.com/\">\\n        <img class=\"sponsors__image\" alt=\"SignalFx\" src=\"/static/images/sponsors/white/signalfx.560cb5c4.png\">\\n        <span class=\"sponsors__name\">SignalFx</span>\\n        <span class=\"sponsors__service\">Supporter</span>\\n      </a>\\n    \\n  \\n    \\n      <a class=\"sponsors__sponsor\" target=\"_blank\" rel=\"noopener\" href=\"https://www.digicert.com/\">\\n        <img class=\"sponsors__image\" alt=\"DigiCert\" src=\"/static/images/sponsors/white/digicert.79748718.png\">\\n        <span class=\"sponsors__name\">DigiCert</span>\\n        <span class=\"sponsors__service\">EV certificate</span>\\n      </a>\\n    \\n  \\n    \\n      <a class=\"sponsors__sponsor\" target=\"_blank\" rel=\"noopener\" href=\"https://statuspage.io\">\\n        <img class=\"sponsors__image\" alt=\"StatusPage\" src=\"/static/images/sponsors/white/statuspage.67af0b3d.png\">\\n        <span class=\"sponsors__name\">StatusPage</span>\\n        <span class=\"sponsors__service\">Status page</span>\\n      </a>\\n    \\n  \\n</div>\\n\\n    \\n  </body>\\n\\n</html>'\n"
     ]
    }
   ],
   "source": [
    "auth = urllib.request.HTTPBasicAuthHandler()\n",
    "auth.add_password('pypi','http://pypi.python.org','username','password')\n",
    "opener = urllib.request.build_opener(auth)\n",
    "r = urllib.request.Request('http://pypi.python.org/pypi?:action=login')\n",
    "u = opener.open(r)\n",
    "resp = u.read()\n",
    "print(resp)"
   ]
  },
  {
   "cell_type": "code",
   "execution_count": 24,
   "metadata": {},
   "outputs": [
    {
     "name": "stdout",
     "output_type": "stream",
     "text": [
      "<Response [200]>\n"
     ]
    }
   ],
   "source": [
    "resp = requests.get('http://pypi.python.org/pypi?:action=login',auth=('user','password'))\n",
    "print(resp)"
   ]
  },
  {
   "cell_type": "code",
   "execution_count": 25,
   "metadata": {},
   "outputs": [],
   "source": [
    "from socketserver import BaseRequestHandler, TCPServer"
   ]
  },
  {
   "cell_type": "code",
   "execution_count": 26,
   "metadata": {},
   "outputs": [],
   "source": [
    "class EchoHandler(BaseRequestHandler):\n",
    "    def handle(self):\n",
    "        print('Got connection from', self.client_address)\n",
    "        while True:\n",
    "            msg = self.request.recv(8192)\n",
    "            if not msg:\n",
    "                break\n",
    "            self.request.send(msg)"
   ]
  },
  {
   "cell_type": "code",
   "execution_count": null,
   "metadata": {},
   "outputs": [],
   "source": [
    "serv = TCPServer(('',20000), EchoHandler)\n",
    "serv.serve_forever()"
   ]
  },
  {
   "cell_type": "code",
   "execution_count": null,
   "metadata": {},
   "outputs": [],
   "source": [
    "from socketserver import ThreadingTCPServer"
   ]
  },
  {
   "cell_type": "code",
   "execution_count": null,
   "metadata": {},
   "outputs": [],
   "source": [
    "NWORKERS = 16\n",
    "serv = ThreadingTCPServer(('',20000),EchoHandler)\n",
    "for n in range(NWORKERS):\n",
    "    t = Thread(target=serv.serve_forever)\n",
    "    t.daemon = True\n",
    "    t.start()\n",
    "serv.serve_forever()"
   ]
  },
  {
   "cell_type": "code",
   "execution_count": null,
   "metadata": {},
   "outputs": [],
   "source": [
    "from socketserver import BaseRequestHandler, UDPServer\n",
    "import time"
   ]
  },
  {
   "cell_type": "code",
   "execution_count": null,
   "metadata": {},
   "outputs": [],
   "source": [
    "class TimeHandler(BaseRequestHandler):\n",
    "    def handle(self):\n",
    "        print('Got connection from', self.client_address)\n",
    "        # Get message and client socket\n",
    "        msg, sock = self.request\n",
    "        resp = time.ctime()\n",
    "        sock.sendto(resp.encode('ascii'), self.client_address)"
   ]
  },
  {
   "cell_type": "code",
   "execution_count": null,
   "metadata": {},
   "outputs": [],
   "source": [
    "serv = UDPServer(('', 20000), TimeHandler) \n",
    "serv.serve_forever()"
   ]
  },
  {
   "cell_type": "code",
   "execution_count": null,
   "metadata": {},
   "outputs": [],
   "source": [
    "Solution\n",
    "One of the easiest ways to build REST-based interfaces is to create \n",
    "a tiny library based on the WSGI standard, as described in PEP 3333. \n",
    "Here is an example:"
   ]
  },
  {
   "cell_type": "code",
   "execution_count": null,
   "metadata": {},
   "outputs": [],
   "source": [
    "import cgi"
   ]
  },
  {
   "cell_type": "code",
   "execution_count": null,
   "metadata": {},
   "outputs": [],
   "source": [
    "def notfound_404(environ, start_response):\n",
    "    start_response('404 Not Found', [('Content-type', 'text/plain')])\n",
    "    return [b'Not Found']"
   ]
  },
  {
   "cell_type": "code",
   "execution_count": null,
   "metadata": {},
   "outputs": [],
   "source": [
    "class PathDispatcher:\n",
    "    def __init__(self):\n",
    "        self.pathmap = { }\n",
    "    def __call__(self, environ, start_response):\n",
    "        path = environ['PATH_INFO']\n",
    "        params = cgi.FieldStorage(environ['wsgi.input'], environ=environ)\n",
    "        method = environ['REQUEST_METHOD'].lower()\n",
    "        environ['params'] = { key: params.getvalue(key) for key in params }\n",
    "        handler = self.pathmap.get((method, path), notfound_404)\n",
    "        return handler(environ, start_response)\n",
    "    \n",
    "    def register(self, method, path, function):\n",
    "        self.pathmap[method.lower(), path] = function\n",
    "        return function"
   ]
  },
  {
   "cell_type": "code",
   "execution_count": null,
   "metadata": {},
   "outputs": [],
   "source": [
    "import time\n",
    "_hello_resp = '''\\ <html>\n",
    "  <head>\n",
    "     <title>Hello {name}</title>\n",
    "   </head>\n",
    "   <body>\n",
    "     <h1>Hello {name}!</h1>\n",
    "   </body>\n",
    "</html>'''\n",
    "def hello_world(environ, start_response):\n",
    "    start_response('200 OK', [ ('Content-type','text/html')]) params = environ['params']\n",
    "    resp = _hello_resp.format(name=params.get('name'))\n",
    "    yield resp.encode('utf-8')"
   ]
  },
  {
   "cell_type": "code",
   "execution_count": null,
   "metadata": {},
   "outputs": [],
   "source": [
    "_localtime_resp = '''\\ <?xml version=\"1.0\"?> <time>\n",
    "      <year>{t.tm_year}</year>\n",
    "      <month>{t.tm_mon}</month>\n",
    "      <day>{t.tm_mday}</day>\n",
    "      <hour>{t.tm_hour}</hour>\n",
    "      <minute>{t.tm_min}</minute>\n",
    "      <second>{t.tm_sec}</second>\n",
    "</time>'''\n",
    "def localtime(environ, start_response):\n",
    "    start_response('200 OK', [ ('Content-type', 'application/xml') ]) \n",
    "    resp = _localtime_resp.format(t=time.localtime())\n",
    "    yield resp.encode('utf-8')\n"
   ]
  },
  {
   "cell_type": "code",
   "execution_count": null,
   "metadata": {},
   "outputs": [],
   "source": [
    "from resty import PathDispatcher\n",
    "from wsgiref.simple_server import make_server\n",
    "        # Create the dispatcher and register functions\n",
    "        dispatcher = PathDispatcher()\n",
    "        dispatcher.register('GET', '/hello', hello_world)\n",
    "        dispatcher.register('GET', '/localtime', localtime)\n",
    "        # Launch a basic server\n",
    "        httpd = make_server('', 8080, dispatcher) \n",
    "        print('Serving on port 8080...') \n",
    "        httpd.serve_forever()"
   ]
  },
  {
   "cell_type": "code",
   "execution_count": null,
   "metadata": {},
   "outputs": [],
   "source": [
    "import psycopg2\n",
    "from config import config\n",
    "connection = psycopg2.connect(user = \"postgres\", password = \"910309Lionheart!\",\n",
    "                             host = \"127.0.0.1\", port = \"5432\", database = \"university\")\n",
    "cursor = connection.cursor()"
   ]
  },
  {
   "cell_type": "code",
   "execution_count": null,
   "metadata": {},
   "outputs": [],
   "source": [
    "cur.execute(\"\"\"SELECT * from instructor\"\"\")"
   ]
  },
  {
   "cell_type": "raw",
   "metadata": {},
   "source": []
  },
  {
   "cell_type": "code",
   "execution_count": null,
   "metadata": {},
   "outputs": [],
   "source": []
  }
 ],
 "metadata": {
  "kernelspec": {
   "display_name": "Python 3",
   "language": "python",
   "name": "python3"
  },
  "language_info": {
   "codemirror_mode": {
    "name": "ipython",
    "version": 3
   },
   "file_extension": ".py",
   "mimetype": "text/x-python",
   "name": "python",
   "nbconvert_exporter": "python",
   "pygments_lexer": "ipython3",
   "version": "3.7.2"
  }
 },
 "nbformat": 4,
 "nbformat_minor": 2
}
